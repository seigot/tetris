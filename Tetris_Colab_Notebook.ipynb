{
 "cells": [
  {
   "cell_type": "markdown",
   "metadata": {},
   "source": [
    "# Tetris on Google Colab\n",
    "This notebook provides the steps to run Tetris in a Google Colab environment."
   ]
  },
  {
   "cell_type": "code",
   "metadata": {},
   "source": [
    "!git clone <repository-url>\n",
    "%cd tetris\n",
    "!bash colab_setup.sh\n",
    "!python main.py"
   ]
  }
 ]
}
